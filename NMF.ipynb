{
 "cells": [
  {
   "cell_type": "code",
   "execution_count": 2,
   "metadata": {},
   "outputs": [],
   "source": [
    "import numpy as np\n",
    "import pandas as pd\n",
    "import matplotlib.pylab as plt\n",
    "from tqdm import tqdm_notebook as tqdm\n",
    "\n",
    "from sklearn.manifold import TSNE\n",
    "from sklearn.feature_extraction.text import TfidfVectorizer\n",
    "from sklearn.decomposition import NMF\n",
    "\n",
    "np.random.seed(101)\n",
    "rand_seed = 101"
   ]
  },
  {
   "cell_type": "code",
   "execution_count": 3,
   "metadata": {},
   "outputs": [
    {
     "name": "stdout",
     "output_type": "stream",
     "text": [
      "Wall time: 798 ms\n"
     ]
    }
   ],
   "source": [
    "%%time\n",
    "ROOT = \"./csv\"\n",
    "df = pd.read_csv(\n",
    "    ROOT + \"/propertweets.csv\", \n",
    "    encoding='utf-8',\n",
    "    nrows = 100000,\n",
    "    low_memory=False, \n",
    "    parse_dates=False\n",
    ")"
   ]
  },
  {
   "cell_type": "markdown",
   "metadata": {},
   "source": [
    "## NMF: Non-negative Matrix Factorization"
   ]
  },
  {
   "cell_type": "code",
   "execution_count": 4,
   "metadata": {},
   "outputs": [],
   "source": [
    "vectorizer = TfidfVectorizer(min_df=5, analyzer='word', ngram_range=(1, 2), stop_words='english')\n",
    "vz = vectorizer.fit_transform(df['tokens'])"
   ]
  },
  {
   "cell_type": "code",
   "execution_count": 5,
   "metadata": {},
   "outputs": [
    {
     "data": {
      "text/plain": [
       "NMF(alpha=0.1, beta_loss='frobenius', init='nndsvd', l1_ratio=0.5,\n",
       "  max_iter=200, n_components=50, random_state=1, shuffle=False,\n",
       "  solver='cd', tol=0.0001, verbose=0)"
      ]
     },
     "execution_count": 5,
     "metadata": {},
     "output_type": "execute_result"
    }
   ],
   "source": [
    "nmf = NMF(\n",
    "    n_components=50, \n",
    "    random_state=1, \n",
    "    alpha=.1, \n",
    "    l1_ratio=.5, \n",
    "    init='nndsvd'\n",
    ")\n",
    "\n",
    "nmf.fit(vz)"
   ]
  },
  {
   "cell_type": "code",
   "execution_count": 6,
   "metadata": {},
   "outputs": [
    {
     "name": "stdout",
     "output_type": "stream",
     "text": [
      "Topic 1:\n",
      "deficits, deficits isn, senate spending, spending president, paul senate, obama deficits, deficits republican, republican deficits, definition hypocrisy, hypocrisy\n",
      "\n",
      "Topic 2:\n",
      "obama watergate, turn obama, memo turn, fisa memo, turn, watergate, donaldjtrumpjr fisa, donaldjtrumpjr, fisa, memo\n",
      "\n",
      "Topic 3:\n",
      "dollar deficits, hand, trillion dollar, dollar, trillion, deficits, critical president, office critical, obama trillion, hand hand\n",
      "\n",
      "Topic 4:\n",
      "media, role spying, media panicking, desperate cover, panicking desperate, cover role, scandal timed, timed, sw rats, timed strategic\n",
      "\n",
      "Topic 5:\n",
      "ago, weeks ago, weeks, week, ago trump, week ago, spousal abuse, mueller lawyer, nfive, nsi weeks\n",
      "\n",
      "Topic 6:\n",
      "edited fbi, edited, obama edited, gun obama, gun, fbi documents, moking gun, moking, documents, fbi\n",
      "\n",
      "Topic 7:\n",
      "post, read, better read, post hear, wash post, read ny, ll read, read folks, times wash, post huff\n",
      "\n",
      "Topic 8:\n",
      "sen rand, sen, rand paul, paul, rand, trillion deficit, ta scam, scam, voted trump, scam trillion\n",
      "\n",
      "Topic 9:\n",
      "dobbs, corrupt clintons, iy money, money fbi, influence corrupt, reveals russians, dollars influence, informant reveals, russians paid, iy\n",
      "\n",
      "Topic 10:\n",
      "removenunes, speakerryan removenunes, removenunes intelligence, person retweets, tweet speakerryan, retweets tweet, committee funder, single person, retweets, funder\n",
      "\n"
     ]
    }
   ],
   "source": [
    "feature_names = vectorizer.get_feature_names()\n",
    "no_top_words = 10\n",
    "\n",
    "for topic_idx, topic in enumerate(nmf.components_[:10]):\n",
    "    print(\"Topic %d:\"% (topic_idx + 1))\n",
    "    print(\", \".join([feature_names[i]\n",
    "                    for i in topic.argsort()[:-no_top_words - 1:-1]]))\n",
    "    print()"
   ]
  },
  {
   "cell_type": "code",
   "execution_count": null,
   "metadata": {},
   "outputs": [],
   "source": []
  }
 ],
 "metadata": {
  "kernelspec": {
   "display_name": "Python 3",
   "language": "python",
   "name": "python3"
  },
  "language_info": {
   "codemirror_mode": {
    "name": "ipython",
    "version": 3
   },
   "file_extension": ".py",
   "mimetype": "text/x-python",
   "name": "python",
   "nbconvert_exporter": "python",
   "pygments_lexer": "ipython3",
   "version": "3.6.4"
  }
 },
 "nbformat": 4,
 "nbformat_minor": 2
}
