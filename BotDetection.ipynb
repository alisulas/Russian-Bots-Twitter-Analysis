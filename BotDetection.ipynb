{
 "cells": [
  {
   "cell_type": "markdown",
   "metadata": {},
   "source": [
    "# AMOD 5410 - Big Data\n",
    "## Project: Bot Detection\n",
    "### By: Matt Emmons (0221920)"
   ]
  },
  {
   "cell_type": "markdown",
   "metadata": {},
   "source": [
    "## Introduction\n",
    "\n",
    "aigjoaigjoaigje\n"
   ]
  },
  {
   "cell_type": "markdown",
   "metadata": {},
   "source": [
    "## Imports"
   ]
  },
  {
   "cell_type": "code",
   "execution_count": 4,
   "metadata": {},
   "outputs": [
    {
     "name": "stderr",
     "output_type": "stream",
     "text": [
      "/usr/local/lib/python3.6/site-packages/IPython/core/interactiveshell.py:2728: DtypeWarning: Columns (0,8,10) have mixed types. Specify dtype option on import or set low_memory=False.\n",
      "  interactivity=interactivity, compiler=compiler, result=result)\n"
     ]
    },
    {
     "name": "stdout",
     "output_type": "stream",
     "text": [
      "  Unnamed: 0    created_at          created_str  \\\n",
      "0          0  1.488207e+12  2017-02-27 14:54:00   \n",
      "1          1  1.471273e+12  2016-08-15 14:50:20   \n",
      "2          2  1.435701e+12  2015-06-30 21:56:09   \n",
      "3          3  1.474013e+12  2016-09-16 08:04:48   \n",
      "4          4  1.474228e+12  2016-09-18 19:46:25   \n",
      "\n",
      "                                 expanded_urls  favorite_count  \\\n",
      "0                                           []             NaN   \n",
      "1                                           []             NaN   \n",
      "2                                           []             NaN   \n",
      "3                                           []            17.0   \n",
      "4  [\"http://ln.is/twitchy.com/loriz-31/3yafU\"]             0.0   \n",
      "\n",
      "                  hashtags  in_reply_to_status_id        mentions  posted  \\\n",
      "0  [\"ThingsDoneByMistake\"]                    NaN              []  POSTED   \n",
      "1        [\"TheOlderWeGet\"]                    NaN              []  POSTED   \n",
      "2                       []                    NaN              []  POSTED   \n",
      "3     [\"Blacklivesmatter\"]                    NaN              []  POSTED   \n",
      "4        [\"WakeUpAmerica\"]                    NaN  [\"nahbabynah\"]  POSTED   \n",
      "\n",
      "   retweet_count retweeted  retweeted_status_id  \\\n",
      "0            NaN       NaN                  NaN   \n",
      "1            NaN       NaN                  NaN   \n",
      "2            NaN       NaN                  NaN   \n",
      "3           18.0     False                  NaN   \n",
      "4            0.0     False         7.775915e+17   \n",
      "\n",
      "                                              source  \\\n",
      "0                                                NaN   \n",
      "1                                                NaN   \n",
      "2                                                NaN   \n",
      "3  <a href=\"http://twitter.com\" rel=\"nofollow\">Tw...   \n",
      "4  <a href=\"http://twitter.com\" rel=\"nofollow\">Tw...   \n",
      "\n",
      "                                                text      tweet_id  \\\n",
      "0    #ThingsDoneByMistake kissing auntie in the lips  8.362279e+17   \n",
      "1  RT @mc_derpin: #TheOlderWeGet the more pessimi...  7.651989e+17   \n",
      "2  RT @dmataconis: Ready To Feel Like A Failure? ...  6.160023e+17   \n",
      "3    Amen! #blacklivesmatter https://t.co/wGffaOqgzl  7.766933e+17   \n",
      "4  RT @NahBabyNah: Twitchy: Chuck Todd caught out...  7.775946e+17   \n",
      "\n",
      "        user_id         user_key  \n",
      "0  2.532612e+09        kathiemrr  \n",
      "1  2.531160e+09   traceyhappymom  \n",
      "2           NaN    evewebster373  \n",
      "3  4.840552e+09      blacktolive  \n",
      "4  1.694026e+09  jacquelinisbest  \n"
     ]
    }
   ],
   "source": [
    "import numpy as np\n",
    "import pandas as pd\n",
    "import warnings\n",
    "from os.path import split\n",
    "from glob import glob\n",
    "from PIL import Image\n",
    "\n",
    "import matplotlib.pylab as plt\n",
    "from sklearn.preprocessing import StandardScaler, OneHotEncoder, LabelEncoder\n",
    "from sklearn.model_selection import train_test_split\n",
    "\n",
    "ROOT = \"./csv\"\n",
    "# df_nbc = pd.read_csv(ROOT + \"/tweets.csv\")\n",
    "# df_scraped = pd.read_csv(ROOT + \"/scraped_tweets.csv\")\n",
    "# df_merged = pd.read_csv(ROOT + \"/mergedset.csv\")\n",
    "df_mergedsubset = pd.read_csv(ROOT + \"/mergedsubset.csv\")\n",
    "\n",
    "print(df_mergedsubset.head())\n",
    "# print(df_scraped.head())\n",
    "# print(df_merged.head())"
   ]
  },
  {
   "cell_type": "markdown",
   "metadata": {},
   "source": [
    "## Preprocessing"
   ]
  }
 ],
 "metadata": {
  "kernelspec": {
   "display_name": "Python 3",
   "language": "python",
   "name": "python3"
  },
  "language_info": {
   "codemirror_mode": {
    "name": "ipython",
    "version": 3
   },
   "file_extension": ".py",
   "mimetype": "text/x-python",
   "name": "python",
   "nbconvert_exporter": "python",
   "pygments_lexer": "ipython3",
   "version": "3.6.4"
  }
 },
 "nbformat": 4,
 "nbformat_minor": 2
}
