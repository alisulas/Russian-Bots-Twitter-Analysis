{
 "cells": [
  {
   "cell_type": "markdown",
   "metadata": {},
   "source": [
    "# AMOD 5410 - Big Data\n",
    "## Project: Bot Detection\n",
    "### By: Matt Emmons (0221920)"
   ]
  },
  {
   "cell_type": "markdown",
   "metadata": {},
   "source": [
    "## Introduction\n",
    "\n",
    "Write stuff about this project. 3k+ words?"
   ]
  },
  {
   "cell_type": "markdown",
   "metadata": {},
   "source": [
    "## Imports"
   ]
  },
  {
   "cell_type": "code",
   "execution_count": 52,
   "metadata": {},
   "outputs": [
    {
     "name": "stdout",
     "output_type": "stream",
     "text": [
      "           created_at                     created_str  \\\n",
      "1200002  1.518248e+12  Sat Feb 10 07:29:13 +0000 2018   \n",
      "1200003  1.518248e+12  Sat Feb 10 07:29:14 +0000 2018   \n",
      "1200004  1.518248e+12  Sat Feb 10 07:29:14 +0000 2018   \n",
      "1200005  1.518248e+12  Sat Feb 10 07:29:14 +0000 2018   \n",
      "1200006  1.518248e+12  Sat Feb 10 07:29:14 +0000 2018   \n",
      "\n",
      "                                             expanded_urls  favorite_count  \\\n",
      "1200002                                                 []             0.0   \n",
      "1200003                                                 []             0.0   \n",
      "1200004                                                 []             0.0   \n",
      "1200005  ['http://truthfeednews.com/sara-carter-drops-s...             0.0   \n",
      "1200006          ['http://realusa.site/usa/posts/1152113']             0.0   \n",
      "\n",
      "                                               hashtags  \\\n",
      "1200002                                              []   \n",
      "1200003                            ['RussianCollusion']   \n",
      "1200004  ['TRUMP', 'CNN', 'MSNBC', 'ABC', 'NBC', 'CBS']   \n",
      "1200005                                              []   \n",
      "1200006                                              []   \n",
      "\n",
      "         in_reply_to_status_id           mentions posted  retweet_count  \\\n",
      "1200002                    NaN   ['kylegriffin1']    NaN            0.0   \n",
      "1200003                    NaN    ['_Blessed07_']    NaN            0.0   \n",
      "1200004                    NaN      ['GmanFan45']    NaN            0.0   \n",
      "1200005                    NaN  ['TruthFeedNews']    NaN            0.0   \n",
      "1200006                    NaN                 []    NaN            0.0   \n",
      "\n",
      "        retweeted  retweeted_status_id  \\\n",
      "1200002     False         9.621794e+17   \n",
      "1200003     False         9.620824e+17   \n",
      "1200004     False         9.620146e+17   \n",
      "1200005     False                  NaN   \n",
      "1200006     False                  NaN   \n",
      "\n",
      "                                                    source  \\\n",
      "1200002  <a href=\"http://twitter.com/download/iphone\" r...   \n",
      "1200003  <a href=\"http://twitter.com\" rel=\"nofollow\">Tw...   \n",
      "1200004  <a href=\"http://twitter.com/#!/download/ipad\" ...   \n",
      "1200005  <a href=\"http://twitter.com/download/android\" ...   \n",
      "1200006  <a href=\"http://www.jr-central.co.jp/\" rel=\"no...   \n",
      "\n",
      "                                                      text      tweet_id  \\\n",
      "1200002  b'Firings/Resignations/Departures under Trump*...  9.622269e+17   \n",
      "1200003  b\"What many of us ALREADY knew/suspected! Thos...  9.622269e+17   \n",
      "1200004  b'\\xf0\\x9f\\x9a\\xa8#TRUMP APPROVAL SOARS TO 50%...  9.622269e+17   \n",
      "1200005  b'Sara Carter Drops SHOCKING New Development o...  9.622269e+17   \n",
      "1200006  b'Alex Jones: Dow Jones Drop Is \\xe2\\x80\\x98Ec...  9.622269e+17   \n",
      "\n",
      "              user_id       user_key  \n",
      "1200002  9.622269e+17  persistwithme  \n",
      "1200003  9.622269e+17       emalvini  \n",
      "1200004  9.622269e+17  BigLeague2020  \n",
      "1200005  9.622269e+17    bamaboyblue  \n",
      "1200006  9.622269e+17       ilezsj5o  \n",
      "1200007\n"
     ]
    }
   ],
   "source": [
    "import numpy as np\n",
    "import pandas as pd\n",
    "from datetime import datetime\n",
    "\n",
    "import matplotlib.pylab as plt\n",
    "from sklearn.preprocessing import StandardScaler, OneHotEncoder, LabelEncoder\n",
    "from sklearn.model_selection import train_test_split\n",
    "\n",
    "ROOT = \"./csv\"\n",
    "# df_nbc = pd.read_csv(ROOT + \"/tweets.csv\")\n",
    "# df_scraped = pd.read_csv(ROOT + \"/scraped_tweets.csv\")\n",
    "# df_merged = pd.read_csv(ROOT + \"/mergedset.csv\")\n",
    "\n",
    "df = pd.read_csv(ROOT + \"/mergedsubset.csv\", low_memory = False, parse_dates = False)\n",
    "del df['Unnamed: 0']\n",
    "print(df.head())\n",
    "\n",
    "# print(df_scraped.head())\n",
    "# print(df_merged.head())"
   ]
  },
  {
   "cell_type": "markdown",
   "metadata": {},
   "source": [
    "## Preprocessing\n",
    "\n",
    "Let's remove unneeded columns."
   ]
  },
  {
   "cell_type": "code",
   "execution_count": 48,
   "metadata": {},
   "outputs": [
    {
     "name": "stdout",
     "output_type": "stream",
     "text": [
      "   favorite_count                 hashtags        mentions  retweet_count  \\\n",
      "0             NaN  [\"ThingsDoneByMistake\"]              []            NaN   \n",
      "1             NaN        [\"TheOlderWeGet\"]              []            NaN   \n",
      "2             NaN                       []              []            NaN   \n",
      "3            17.0     [\"Blacklivesmatter\"]              []           18.0   \n",
      "4             0.0        [\"WakeUpAmerica\"]  [\"nahbabynah\"]            0.0   \n",
      "\n",
      "  retweeted  retweeted_status_id  \\\n",
      "0       NaN                  NaN   \n",
      "1       NaN                  NaN   \n",
      "2       NaN                  NaN   \n",
      "3     False                  NaN   \n",
      "4     False         7.775915e+17   \n",
      "\n",
      "                                                text      tweet_id  \\\n",
      "0    #ThingsDoneByMistake kissing auntie in the lips  8.362279e+17   \n",
      "1  RT @mc_derpin: #TheOlderWeGet the more pessimi...  7.651989e+17   \n",
      "2  RT @dmataconis: Ready To Feel Like A Failure? ...  6.160023e+17   \n",
      "3    Amen! #blacklivesmatter https://t.co/wGffaOqgzl  7.766933e+17   \n",
      "4  RT @NahBabyNah: Twitchy: Chuck Todd caught out...  7.775946e+17   \n",
      "\n",
      "        user_id         user_key  \n",
      "0  2.532612e+09        kathiemrr  \n",
      "1  2.531160e+09   traceyhappymom  \n",
      "2           NaN    evewebster373  \n",
      "3  4.840552e+09      blacktolive  \n",
      "4  1.694026e+09  jacquelinisbest  \n"
     ]
    }
   ],
   "source": [
    "delcols = [\n",
    "    'created_at',\n",
    "    'created_str',\n",
    "    'expanded_urls',\n",
    "    'in_reply_to_status_id',\n",
    "    'posted',\n",
    "    'source'\n",
    "]\n",
    "for col in delcols:\n",
    "    del df[col]\n",
    "    \n",
    "print(df.head())"
   ]
  },
  {
   "cell_type": "markdown",
   "metadata": {},
   "source": [
    "Split the columns into the first 200,000 and the remaining 1,000,000."
   ]
  },
  {
   "cell_type": "code",
   "execution_count": 54,
   "metadata": {},
   "outputs": [
    {
     "name": "stdout",
     "output_type": "stream",
     "text": [
      "200000\n",
      "1000007\n"
     ]
    }
   ],
   "source": [
    "df_nbc = pd.DataFrame()\n",
    "df_scrape = pd.DataFrame()\n",
    "\n",
    "df_nbc = df[:200000]\n",
    "df_scrape = df.iloc[200000:]"
   ]
  },
  {
   "cell_type": "code",
   "execution_count": null,
   "metadata": {},
   "outputs": [],
   "source": []
  }
 ],
 "metadata": {
  "kernelspec": {
   "display_name": "Python 3",
   "language": "python",
   "name": "python3"
  },
  "language_info": {
   "codemirror_mode": {
    "name": "ipython",
    "version": 3
   },
   "file_extension": ".py",
   "mimetype": "text/x-python",
   "name": "python",
   "nbconvert_exporter": "python",
   "pygments_lexer": "ipython3",
   "version": "3.6.5"
  }
 },
 "nbformat": 4,
 "nbformat_minor": 2
}
