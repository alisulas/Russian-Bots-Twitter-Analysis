{
 "cells": [
  {
   "cell_type": "code",
   "execution_count": 1,
   "metadata": {},
   "outputs": [
    {
     "name": "stderr",
     "output_type": "stream",
     "text": [
      "C:\\Users\\matt\\Anaconda3\\lib\\site-packages\\gensim\\utils.py:1197: UserWarning: detected Windows; aliasing chunkize to chunkize_serial\n",
      "  warnings.warn(\"detected Windows; aliasing chunkize to chunkize_serial\")\n"
     ]
    }
   ],
   "source": [
    "import numpy as np\n",
    "import pandas as pd\n",
    "import ast\n",
    "import matplotlib.pylab as plt\n",
    "from tqdm import tqdm_notebook as tqdm\n",
    "\n",
    "from sklearn.manifold import TSNE\n",
    "\n",
    "import gensim\n",
    "from gensim import corpora, models, similarities \n",
    "from gensim import matutils\n",
    "from gensim.models import CoherenceModel\n",
    "\n",
    "import pyLDAvis\n",
    "import pyLDAvis.gensim\n",
    "\n",
    "np.random.seed(101)\n",
    "rand_seed = 101"
   ]
  },
  {
   "cell_type": "code",
   "execution_count": 2,
   "metadata": {},
   "outputs": [
    {
     "name": "stdout",
     "output_type": "stream",
     "text": [
      "Wall time: 80.6 ms\n"
     ]
    }
   ],
   "source": [
    "%%time\n",
    "ROOT = \"./csv\"\n",
    "df = pd.read_csv(\n",
    "    ROOT + \"/propertweets.csv\", \n",
    "    encoding='utf-8',\n",
    "    nrows = 10000,\n",
    "    low_memory=False, \n",
    "    parse_dates=False\n",
    ")\n",
    "del df['Unnamed: 0']"
   ]
  },
  {
   "cell_type": "code",
   "execution_count": 3,
   "metadata": {},
   "outputs": [
    {
     "name": "stdout",
     "output_type": "stream",
     "text": [
      "Dictionary(11143 unique tokens: ['abu', 'bush', 'dhabi', 'elections', 'embraces']...)\n",
      "Wall time: 412 ms\n"
     ]
    }
   ],
   "source": [
    "%%time\n",
    "\n",
    "# build the dictionary and corpus\n",
    "tokens = [ast.literal_eval(token) for token in df['tokens'].values]\n",
    "dictionary = corpora.Dictionary(tokens)\n",
    "corpus = [dictionary.doc2bow(token) for token in tokens]\n",
    "print(dictionary)"
   ]
  },
  {
   "cell_type": "code",
   "execution_count": 4,
   "metadata": {},
   "outputs": [],
   "source": [
    "def create_LDA_model(num_topics, passes=1):\n",
    "    \"\"\"\n",
    "    Function to create an LDA model that accepts number of topics\n",
    "    \"\"\"\n",
    "    return gensim.models.ldamodel.LdaModel(\n",
    "        corpus = tqdm(corpus, leave=False),\n",
    "        id2word = dictionary,\n",
    "        num_topics = num_topics, \n",
    "        random_state = rand_seed,\n",
    "        eval_every = 10,\n",
    "        chunksize = 2000,\n",
    "        passes = passes,\n",
    "        per_word_topics = True\n",
    "    )\n",
    "\n",
    "def optimize_model(rg=range(5, 25)):\n",
    "    \"\"\"\n",
    "    Function to perform LDA analysis\n",
    "    \"\"\"\n",
    "    models = []\n",
    "    coherences = []\n",
    "    \n",
    "    for num_topics in tqdm(rg, leave=False):\n",
    "        lda_model = create_LDA_model(num_topics, passes=5)\n",
    "        models.append(lda_model)\n",
    "        coherence = CoherenceModel(model = lda_model, texts = tokens, dictionary = dictionary, coherence = 'c_v').get_coherence()\n",
    "        coherences.append(coherence)\n",
    "      \n",
    "    fig = plt.figure(figsize=(15, 5))\n",
    "    plt.title('Choosing the optimal number of topics')\n",
    "    plt.xlabel('Number of topics')\n",
    "    plt.ylabel('Coherence')\n",
    "    plt.grid(True)\n",
    "    plt.plot(rg, coherences)\n",
    "    \n",
    "    return coherences, models"
   ]
  },
  {
   "cell_type": "code",
   "execution_count": 5,
   "metadata": {},
   "outputs": [
    {
     "data": {
      "application/vnd.jupyter.widget-view+json": {
       "model_id": "e19265e8d45c4e6788ba126c5ba5341a",
       "version_major": 2,
       "version_minor": 0
      },
      "text/html": [
       "<p>Failed to display Jupyter Widget of type <code>HBox</code>.</p>\n",
       "<p>\n",
       "  If you're reading this message in the Jupyter Notebook or JupyterLab Notebook, it may mean\n",
       "  that the widgets JavaScript is still loading. If this message persists, it\n",
       "  likely means that the widgets JavaScript library is either not installed or\n",
       "  not enabled. See the <a href=\"https://ipywidgets.readthedocs.io/en/stable/user_install.html\">Jupyter\n",
       "  Widgets Documentation</a> for setup instructions.\n",
       "</p>\n",
       "<p>\n",
       "  If you're reading this message in another frontend (for example, a static\n",
       "  rendering on GitHub or <a href=\"https://nbviewer.jupyter.org/\">NBViewer</a>),\n",
       "  it may mean that your frontend doesn't currently support widgets.\n",
       "</p>\n"
      ],
      "text/plain": [
       "HBox(children=(IntProgress(value=0, max=5), HTML(value='')))"
      ]
     },
     "metadata": {},
     "output_type": "display_data"
    },
    {
     "data": {
      "application/vnd.jupyter.widget-view+json": {
       "model_id": "41179ddbb2e64620bff75a2ba0162276",
       "version_major": 2,
       "version_minor": 0
      },
      "text/html": [
       "<p>Failed to display Jupyter Widget of type <code>HBox</code>.</p>\n",
       "<p>\n",
       "  If you're reading this message in the Jupyter Notebook or JupyterLab Notebook, it may mean\n",
       "  that the widgets JavaScript is still loading. If this message persists, it\n",
       "  likely means that the widgets JavaScript library is either not installed or\n",
       "  not enabled. See the <a href=\"https://ipywidgets.readthedocs.io/en/stable/user_install.html\">Jupyter\n",
       "  Widgets Documentation</a> for setup instructions.\n",
       "</p>\n",
       "<p>\n",
       "  If you're reading this message in another frontend (for example, a static\n",
       "  rendering on GitHub or <a href=\"https://nbviewer.jupyter.org/\">NBViewer</a>),\n",
       "  it may mean that your frontend doesn't currently support widgets.\n",
       "</p>\n"
      ],
      "text/plain": [
       "HBox(children=(IntProgress(value=0, max=10000), HTML(value='')))"
      ]
     },
     "metadata": {},
     "output_type": "display_data"
    },
    {
     "name": "stderr",
     "output_type": "stream",
     "text": [
      "C:\\Users\\matt\\Anaconda3\\lib\\site-packages\\gensim\\models\\ldamodel.py:775: RuntimeWarning: divide by zero encountered in log\n",
      "  diff = np.log(self.expElogbeta)\n"
     ]
    },
    {
     "data": {
      "application/vnd.jupyter.widget-view+json": {
       "model_id": "986c137596a245cf83e7613702a37b36",
       "version_major": 2,
       "version_minor": 0
      },
      "text/html": [
       "<p>Failed to display Jupyter Widget of type <code>HBox</code>.</p>\n",
       "<p>\n",
       "  If you're reading this message in the Jupyter Notebook or JupyterLab Notebook, it may mean\n",
       "  that the widgets JavaScript is still loading. If this message persists, it\n",
       "  likely means that the widgets JavaScript library is either not installed or\n",
       "  not enabled. See the <a href=\"https://ipywidgets.readthedocs.io/en/stable/user_install.html\">Jupyter\n",
       "  Widgets Documentation</a> for setup instructions.\n",
       "</p>\n",
       "<p>\n",
       "  If you're reading this message in another frontend (for example, a static\n",
       "  rendering on GitHub or <a href=\"https://nbviewer.jupyter.org/\">NBViewer</a>),\n",
       "  it may mean that your frontend doesn't currently support widgets.\n",
       "</p>\n"
      ],
      "text/plain": [
       "HBox(children=(IntProgress(value=0, max=10000), HTML(value='')))"
      ]
     },
     "metadata": {},
     "output_type": "display_data"
    },
    {
     "data": {
      "application/vnd.jupyter.widget-view+json": {
       "model_id": "aeb7565f4ca54127aec59b7c0785be08",
       "version_major": 2,
       "version_minor": 0
      },
      "text/html": [
       "<p>Failed to display Jupyter Widget of type <code>HBox</code>.</p>\n",
       "<p>\n",
       "  If you're reading this message in the Jupyter Notebook or JupyterLab Notebook, it may mean\n",
       "  that the widgets JavaScript is still loading. If this message persists, it\n",
       "  likely means that the widgets JavaScript library is either not installed or\n",
       "  not enabled. See the <a href=\"https://ipywidgets.readthedocs.io/en/stable/user_install.html\">Jupyter\n",
       "  Widgets Documentation</a> for setup instructions.\n",
       "</p>\n",
       "<p>\n",
       "  If you're reading this message in another frontend (for example, a static\n",
       "  rendering on GitHub or <a href=\"https://nbviewer.jupyter.org/\">NBViewer</a>),\n",
       "  it may mean that your frontend doesn't currently support widgets.\n",
       "</p>\n"
      ],
      "text/plain": [
       "HBox(children=(IntProgress(value=0, max=10000), HTML(value='')))"
      ]
     },
     "metadata": {},
     "output_type": "display_data"
    },
    {
     "data": {
      "application/vnd.jupyter.widget-view+json": {
       "model_id": "fd8450f3da624101bf18aa2d7850311c",
       "version_major": 2,
       "version_minor": 0
      },
      "text/html": [
       "<p>Failed to display Jupyter Widget of type <code>HBox</code>.</p>\n",
       "<p>\n",
       "  If you're reading this message in the Jupyter Notebook or JupyterLab Notebook, it may mean\n",
       "  that the widgets JavaScript is still loading. If this message persists, it\n",
       "  likely means that the widgets JavaScript library is either not installed or\n",
       "  not enabled. See the <a href=\"https://ipywidgets.readthedocs.io/en/stable/user_install.html\">Jupyter\n",
       "  Widgets Documentation</a> for setup instructions.\n",
       "</p>\n",
       "<p>\n",
       "  If you're reading this message in another frontend (for example, a static\n",
       "  rendering on GitHub or <a href=\"https://nbviewer.jupyter.org/\">NBViewer</a>),\n",
       "  it may mean that your frontend doesn't currently support widgets.\n",
       "</p>\n"
      ],
      "text/plain": [
       "HBox(children=(IntProgress(value=0, max=10000), HTML(value='')))"
      ]
     },
     "metadata": {},
     "output_type": "display_data"
    },
    {
     "data": {
      "application/vnd.jupyter.widget-view+json": {
       "model_id": "92266a9b989f4f0fa4f61e6a23ffcc2a",
       "version_major": 2,
       "version_minor": 0
      },
      "text/html": [
       "<p>Failed to display Jupyter Widget of type <code>HBox</code>.</p>\n",
       "<p>\n",
       "  If you're reading this message in the Jupyter Notebook or JupyterLab Notebook, it may mean\n",
       "  that the widgets JavaScript is still loading. If this message persists, it\n",
       "  likely means that the widgets JavaScript library is either not installed or\n",
       "  not enabled. See the <a href=\"https://ipywidgets.readthedocs.io/en/stable/user_install.html\">Jupyter\n",
       "  Widgets Documentation</a> for setup instructions.\n",
       "</p>\n",
       "<p>\n",
       "  If you're reading this message in another frontend (for example, a static\n",
       "  rendering on GitHub or <a href=\"https://nbviewer.jupyter.org/\">NBViewer</a>),\n",
       "  it may mean that your frontend doesn't currently support widgets.\n",
       "</p>\n"
      ],
      "text/plain": [
       "HBox(children=(IntProgress(value=0, max=10000), HTML(value='')))"
      ]
     },
     "metadata": {},
     "output_type": "display_data"
    },
    {
     "name": "stdout",
     "output_type": "stream",
     "text": [
      "\r"
     ]
    },
    {
     "data": {
      "image/png": "[encoded data removed]",
      "text/plain": [
       "<matplotlib.figure.Figure at 0x24405cc5dd8>"
      ]
     },
     "metadata": {},
     "output_type": "display_data"
    }
   ],
   "source": [
    "coherences, models = optimize_model(rg=range(100, 1001, 200))"
   ]
  },
  {
   "cell_type": "code",
   "execution_count": 6,
   "metadata": {},
   "outputs": [
    {
     "data": {
      "application/vnd.jupyter.widget-view+json": {
       "model_id": "5cc658de36e94cb1a6927f6e098b1f59",
       "version_major": 2,
       "version_minor": 0
      },
      "text/html": [
       "<p>Failed to display Jupyter Widget of type <code>HBox</code>.</p>\n",
       "<p>\n",
       "  If you're reading this message in the Jupyter Notebook or JupyterLab Notebook, it may mean\n",
       "  that the widgets JavaScript is still loading. If this message persists, it\n",
       "  likely means that the widgets JavaScript library is either not installed or\n",
       "  not enabled. See the <a href=\"https://ipywidgets.readthedocs.io/en/stable/user_install.html\">Jupyter\n",
       "  Widgets Documentation</a> for setup instructions.\n",
       "</p>\n",
       "<p>\n",
       "  If you're reading this message in another frontend (for example, a static\n",
       "  rendering on GitHub or <a href=\"https://nbviewer.jupyter.org/\">NBViewer</a>),\n",
       "  it may mean that your frontend doesn't currently support widgets.\n",
       "</p>\n"
      ],
      "text/plain": [
       "HBox(children=(IntProgress(value=0, max=10000), HTML(value='')))"
      ]
     },
     "metadata": {},
     "output_type": "display_data"
    },
    {
     "name": "stdout",
     "output_type": "stream",
     "text": [
      "\r"
     ]
    }
   ],
   "source": [
    "lda = create_LDA_model(num_topics=45, passes=100)"
   ]
  },
  {
   "cell_type": "code",
   "execution_count": 7,
   "metadata": {},
   "outputs": [
    {
     "data": {
      "text/plain": [
       "[(2,\n",
       "  '0.040*\"flynn\" + 0.040*\"trump\" + 0.023*\"dossier\" + 0.019*\"fisa\" + 0.018*\"warrant\" + 0.017*\"cnn\" + 0.017*\"hillary\" + 0.016*\"clinton\" + 0.015*\"investigation\" + 0.014*\"steele\"'),\n",
       " (36,\n",
       "  '0.082*\"ta\" + 0.074*\"voted\" + 0.063*\"trillion\" + 0.059*\"rand\" + 0.037*\"top\" + 0.032*\"paul\" + 0.032*\"head\" + 0.029*\"michaelslinden\" + 0.029*\"cuaaaaaarrgggghghghghghghhghhghhg\" + 0.029*\"eplodes\"'),\n",
       " (19,\n",
       "  '0.054*\"memo\" + 0.041*\"nunes\" + 0.031*\"read\" + 0.021*\"cut\" + 0.020*\"estimate\" + 0.019*\"suppo\" + 0.019*\"grassley\" + 0.018*\"gt\" + 0.016*\"fbi\" + 0.014*\"graham\"'),\n",
       " (37,\n",
       "  '0.079*\"house\" + 0.061*\"white\" + 0.051*\"obama\" + 0.048*\"clinton\" + 0.044*\"trump\" + 0.034*\"cleansing\" + 0.034*\"demanded\" + 0.033*\"spiritual\" + 0.030*\"melania\" + 0.028*\"removal\"'),\n",
       " (27,\n",
       "  '0.032*\"obama\" + 0.027*\"daca\" + 0.027*\"treason\" + 0.026*\"ngop\" + 0.024*\"trump\" + 0.021*\"nhe\" + 0.020*\"mueller\" + 0.018*\"committed\" + 0.016*\"course\" + 0.015*\"obamagate\"'),\n",
       " (18,\n",
       "  '0.027*\"obama\" + 0.026*\"trump\" + 0.016*\"donald\" + 0.016*\"mueller\" + 0.016*\"days\" + 0.015*\"entire\" + 0.015*\"thought\" + 0.014*\"history\" + 0.014*\"rosenstein\" + 0.014*\"year\"'),\n",
       " (31,\n",
       "  '0.129*\"ago\" + 0.107*\"weeks\" + 0.045*\"fire\" + 0.043*\"week\" + 0.026*\"year\" + 0.025*\"mueller\" + 0.025*\"day\" + 0.025*\"trump\" + 0.023*\"lawyer\" + 0.023*\"shutdown\"'),\n",
       " (14,\n",
       "  '0.095*\"obama\" + 0.049*\"memo\" + 0.048*\"spending\" + 0.047*\"donaldjtrumpjr\" + 0.046*\"bill\" + 0.046*\"hypocrisy\" + 0.043*\"fisa\" + 0.041*\"watergate\" + 0.040*\"turn\" + 0.016*\"clinton\"'),\n",
       " (43,\n",
       "  '0.118*\"fbi\" + 0.106*\"obama\" + 0.037*\"gun\" + 0.035*\"edited\" + 0.032*\"documents\" + 0.030*\"moking\" + 0.024*\"investigations\" + 0.019*\"talk\" + 0.016*\"comey\" + 0.014*\"investigation\"'),\n",
       " (17,\n",
       "  '0.047*\"nunes\" + 0.037*\"trump\" + 0.032*\"committee\" + 0.028*\"intelligence\" + 0.027*\"coming\" + 0.022*\"wo\" + 0.022*\"speakerryan\" + 0.021*\"thing\" + 0.019*\"makeamericaethicalagain\" + 0.019*\"broken\"')]"
      ]
     },
     "execution_count": 7,
     "metadata": {},
     "output_type": "execute_result"
    }
   ],
   "source": [
    "lda.show_topics()"
   ]
  },
  {
   "cell_type": "code",
   "execution_count": 8,
   "metadata": {},
   "outputs": [
    {
     "name": "stdout",
     "output_type": "stream",
     "text": [
      "[\"('tweet', 0.027781315)\", \"('person', 0.026560687)\", \"('funder', 0.024600528)\", \"('speakerryan', 0.023812862)\", \"('intelligence', 0.02316218)\", \"('maga', 0.022884369)\", \"('committee', 0.021534162)\", \"('law', 0.02117928)\", \"('single', 0.02062663)\", \"('removenunes', 0.019732371)\", \"('love', 0.019313352)\", \"('americans', 0.018471105)\", \"('retweets', 0.018028315)\", \"('man', 0.01595675)\", \"('find', 0.015181683)\", \"('washington', 0.015143818)\", \"('claims', 0.014414363)\", \"('post', 0.0136677725)\", \"('owe', 0.012535527)\", \"('illegals', 0.012441021)\"]\n",
      "\n",
      "[\"('government', 0.053018752)\", \"('fisa', 0.03390238)\", \"('iran', 0.027708653)\", \"('scandal', 0.025804663)\", \"('defense', 0.024598703)\", \"('defending', 0.024202157)\", \"('press', 0.02398374)\", \"('actions', 0.023555726)\", \"('gate', 0.022591366)\", \"('wrongdoing', 0.022188326)\", \"('worrisome', 0.021388512)\", \"('watergate', 0.021244794)\", \"('contra', 0.02097354)\", \"('political', 0.019242711)\", \"('attacks', 0.015029229)\", \"('mueller', 0.0145890815)\", \"('jacobawohl', 0.014313682)\", \"('cou', 0.013568915)\", \"('antischoolftw', 0.012442984)\", \"('strategy', 0.01134244)\"]\n",
      "\n",
      "[\"('trump', 0.04316057)\", \"('russian', 0.030978322)\", \"('obama', 0.02852411)\", \"('president', 0.025065633)\", \"('elections', 0.022473136)\", \"('today', 0.021859871)\", \"('american', 0.021616494)\", \"('illegals', 0.01990758)\", \"('meddling', 0.019474065)\", \"('bush', 0.018788194)\", \"('realdonaldtrump', 0.018728353)\", \"('barack', 0.018627051)\", \"('george', 0.017783161)\", \"('dhabi', 0.017241513)\", \"('trashes', 0.017241513)\", \"('pushes', 0.017241513)\", \"('embraces', 0.017241513)\", \"('abu', 0.017241513)\", \"('officeofmike', 0.015305438)\", \"('approval', 0.0143780075)\"]\n",
      "\n",
      "[\"('maga', 0.045491047)\", \"('stock', 0.044462718)\", \"('obama', 0.04407649)\", \"('market', 0.035382897)\", \"('thursdaythoughts', 0.03529569)\", \"('trump', 0.029807836)\", \"('markets', 0.029671794)\", \"('presidents', 0.02428581)\", \"('net', 0.022821706)\", \"('point', 0.021714168)\", \"('follow', 0.02048789)\", \"('control', 0.020403361)\", \"('record', 0.01971353)\", \"('illegal', 0.018868376)\", \"('stand', 0.017694691)\", \"('presidency', 0.017349461)\", \"('gains', 0.016375946)\", \"('period', 0.016282784)\", \"('double', 0.0156071335)\", \"('inauguration', 0.0148234805)\"]\n",
      "\n",
      "[\"('people', 0.06397166)\", \"('debt', 0.034767505)\", \"('strzok', 0.032349683)\", \"('tets', 0.031581525)\", \"('house', 0.030276412)\", \"('fbi', 0.029645735)\", \"('white', 0.028297065)\", \"('feel', 0.023884468)\", \"('obama', 0.022367803)\", \"('mueller', 0.021675885)\", \"('probe', 0.021188868)\", \"('pay', 0.020542331)\", \"('uncomfoable', 0.020065231)\", \"('longer', 0.019458609)\", \"('caring', 0.017428745)\", \"('blasting', 0.017428745)\", \"('trump', 0.0165856)\", \"('laufman', 0.016426612)\", \"('hillary', 0.013616927)\", \"('peter', 0.0134468265)\"]\n",
      "\n",
      "[\"('flynn', 0.03997347)\", \"('trump', 0.039534774)\", \"('dossier', 0.023062201)\", \"('fisa', 0.01881862)\", \"('warrant', 0.01767218)\", \"('cnn', 0.017233)\", \"('hillary', 0.01657501)\", \"('clinton', 0.01620966)\", \"('investigation', 0.01513044)\", \"('steele', 0.013843999)\", \"('news', 0.01378974)\", \"('special', 0.013713039)\", \"('story', 0.013350523)\", \"('russia', 0.01172495)\", \"('kushner', 0.0112052085)\", \"('general', 0.010508295)\", \"('wh', 0.010358766)\", \"('involved', 0.01031497)\", \"('russian', 0.009683843)\", \"('member', 0.009614934)\"]\n",
      "\n",
      "[\"('obama', 0.081478)\", \"('trump', 0.026718283)\", \"('breaking', 0.01949204)\", \"('sept', 0.019168444)\", \"('russia', 0.015261909)\", \"('major', 0.013890625)\", \"('regime', 0.0138781145)\", \"('hillaryclinton', 0.013765402)\", \"('senator', 0.013700359)\", \"('undermine', 0.013238108)\", \"('answer', 0.012819941)\", \"('fbi', 0.012096145)\", \"('state', 0.010872254)\", \"('sell', 0.010154605)\", \"('tet', 0.00993883)\", \"('threatens', 0.009667497)\", \"('secretary', 0.009613832)\", \"('putin', 0.0095809195)\", \"('decision', 0.009558286)\", \"('deal', 0.009369483)\"]\n",
      "\n",
      "[\"('nunes', 0.04656255)\", \"('trump', 0.037267204)\", \"('committee', 0.031737406)\", \"('intelligence', 0.02803821)\", \"('coming', 0.026671808)\", \"('wo', 0.022335583)\", \"('speakerryan', 0.02171872)\", \"('thing', 0.021396019)\", \"('seats', 0.018840399)\", \"('makeamericaethicalagain', 0.018840399)\", \"('ironstache', 0.018840399)\", \"('broken', 0.018840399)\", \"('prayer', 0.017753752)\", \"('lie', 0.01749368)\", \"('devin', 0.017448246)\", \"('caught', 0.016309688)\", \"('national', 0.015529325)\", \"('poer', 0.0134317335)\", \"('won', 0.012915324)\", \"('liar', 0.012535694)\"]\n",
      "\n",
      "[\"('bill', 0.032901254)\", \"('ta', 0.032471605)\", \"('voted', 0.031969532)\", \"('deficit', 0.031277668)\", \"('trillion', 0.02958785)\", \"('moron', 0.024344744)\", \"('addition', 0.022515398)\", \"('jamesgunn', 0.022193952)\", \"('americafirst', 0.018152213)\", \"('politics', 0.01772152)\", \"('time', 0.017497864)\", \"('realdonaldtrump', 0.017271884)\", \"('truth', 0.016122645)\", \"('deplorable', 0.015427054)\", \"('congress', 0.014781046)\", \"('randpaul', 0.014765291)\", \"('americans', 0.014426415)\", \"('immigration', 0.014145495)\", \"('system', 0.013581673)\", \"('maga', 0.013392598)\"]\n",
      "\n",
      "[\"('maga', 0.047473196)\", \"('realdonaldtrump', 0.034816716)\", \"('lies', 0.03200616)\", \"('trumptrain', 0.031281248)\", \"('hillary', 0.02210087)\", \"('dobbs', 0.020782204)\", \"('rep', 0.020779382)\", \"('clinton', 0.01937101)\", \"('jimjordan', 0.019370409)\", \"('info', 0.018060915)\", \"('connection', 0.017678509)\", \"('anti', 0.01750487)\", \"('dossier', 0.017395202)\", \"('blumenthal', 0.017152444)\", \"('bill', 0.01686484)\", \"('fbnp', 0.016788833)\", \"('smear', 0.016788833)\", \"('joins', 0.016788833)\", \"('sidney', 0.016429076)\", \"('merchant', 0.016429076)\"]\n",
      "\n"
     ]
    }
   ],
   "source": [
    "topics_matrix = lda.show_topics(formatted=False, num_words=20)\n",
    "topics_matrix = np.array(topics_matrix, dtype=object)\n",
    "\n",
    "# topics_matrix.shape\n",
    "topic_words = topics_matrix[:,1]\n",
    "for i in topic_words:\n",
    "    print([str(word) for word in i])\n",
    "    print()"
   ]
  },
  {
   "cell_type": "code",
   "execution_count": 9,
   "metadata": {},
   "outputs": [
    {
     "name": "stderr",
     "output_type": "stream",
     "text": [
      "C:\\Users\\matt\\Anaconda3\\lib\\site-packages\\pyLDAvis\\_prepare.py:387: DeprecationWarning: \n",
      ".ix is deprecated. Please use\n",
      ".loc for label based indexing or\n",
      ".iloc for positional indexing\n",
      "\n",
      "See the documentation here:\n",
      "http://pandas.pydata.org/pandas-docs/stable/indexing.html#ix-indexer-is-deprecated\n",
      "  topic_term_dists = topic_term_dists.ix[topic_order]\n"
     ]
    }
   ],
   "source": [
    "pyLDAvis.enable_notebook()\n",
    "panel = pyLDAvis.gensim.prepare(lda, corpus, dictionary)\n",
    "pyLDAvis.save_html(panel, './plots/pyLDAvis2.html')"
   ]
  },
  {
   "cell_type": "code",
   "execution_count": null,
   "metadata": {},
   "outputs": [],
   "source": []
  }
 ],
 "metadata": {
  "kernelspec": {
   "display_name": "Python 3",
   "language": "python",
   "name": "python3"
  },
  "language_info": {
   "codemirror_mode": {
    "name": "ipython",
    "version": 3
   },
   "file_extension": ".py",
   "mimetype": "text/x-python",
   "name": "python",
   "nbconvert_exporter": "python",
   "pygments_lexer": "ipython3",
   "version": "3.6.4"
  }
 },
 "nbformat": 4,
 "nbformat_minor": 2
}
